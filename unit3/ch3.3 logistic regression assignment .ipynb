{
 "cells": [
  {
   "cell_type": "code",
   "execution_count": 19,
   "metadata": {
    "collapsed": true
   },
   "outputs": [],
   "source": [
    "import pandas as pd\n",
    "import matplotlib.pyplot as plt \n",
    "%matplotlib inline\n"
   ]
  },
  {
   "cell_type": "code",
   "execution_count": 20,
   "metadata": {
    "collapsed": false
   },
   "outputs": [
    {
     "data": {
      "text/html": [
       "<div>\n",
       "<table border=\"1\" class=\"dataframe\">\n",
       "  <thead>\n",
       "    <tr style=\"text-align: right;\">\n",
       "      <th></th>\n",
       "      <th>编号</th>\n",
       "      <th>色泽</th>\n",
       "      <th>根蒂</th>\n",
       "      <th>敲声</th>\n",
       "      <th>纹理</th>\n",
       "      <th>脐部</th>\n",
       "      <th>触感</th>\n",
       "      <th>密度</th>\n",
       "      <th>含糖率</th>\n",
       "      <th>好瓜</th>\n",
       "    </tr>\n",
       "  </thead>\n",
       "  <tbody>\n",
       "    <tr>\n",
       "      <th>0</th>\n",
       "      <td>1</td>\n",
       "      <td>青绿</td>\n",
       "      <td>蜷缩</td>\n",
       "      <td>浊响</td>\n",
       "      <td>清晰</td>\n",
       "      <td>凹陷</td>\n",
       "      <td>硬滑</td>\n",
       "      <td>0.697</td>\n",
       "      <td>0.46</td>\n",
       "      <td>是</td>\n",
       "    </tr>\n",
       "    <tr>\n",
       "      <th>1</th>\n",
       "      <td>2</td>\n",
       "      <td>乌黑</td>\n",
       "      <td>蜷缩</td>\n",
       "      <td>沉闷</td>\n",
       "      <td>清晰</td>\n",
       "      <td>凹陷</td>\n",
       "      <td>硬滑</td>\n",
       "      <td>0.774</td>\n",
       "      <td>0.376</td>\n",
       "      <td>是</td>\n",
       "    </tr>\n",
       "    <tr>\n",
       "      <th>2</th>\n",
       "      <td>3</td>\n",
       "      <td>乌黑</td>\n",
       "      <td>蜷缩</td>\n",
       "      <td>浊响</td>\n",
       "      <td>清晰</td>\n",
       "      <td>凹陷</td>\n",
       "      <td>硬滑</td>\n",
       "      <td>0.634</td>\n",
       "      <td>0.264</td>\n",
       "      <td>是</td>\n",
       "    </tr>\n",
       "    <tr>\n",
       "      <th>3</th>\n",
       "      <td>4</td>\n",
       "      <td>青绿</td>\n",
       "      <td>蜷缩</td>\n",
       "      <td>沉闷</td>\n",
       "      <td>清晰</td>\n",
       "      <td>凹陷</td>\n",
       "      <td>硬滑</td>\n",
       "      <td>0.608</td>\n",
       "      <td>0.318</td>\n",
       "      <td>是</td>\n",
       "    </tr>\n",
       "    <tr>\n",
       "      <th>4</th>\n",
       "      <td>5</td>\n",
       "      <td>浅白</td>\n",
       "      <td>蜷缩</td>\n",
       "      <td>浊响</td>\n",
       "      <td>清晰</td>\n",
       "      <td>凹陷</td>\n",
       "      <td>硬滑</td>\n",
       "      <td>0.556</td>\n",
       "      <td>0.215</td>\n",
       "      <td>是</td>\n",
       "    </tr>\n",
       "    <tr>\n",
       "      <th>5</th>\n",
       "      <td>6</td>\n",
       "      <td>青绿</td>\n",
       "      <td>稍蜷</td>\n",
       "      <td>浊响</td>\n",
       "      <td>清晰</td>\n",
       "      <td>稍凹</td>\n",
       "      <td>软粘</td>\n",
       "      <td>0.403</td>\n",
       "      <td>0.237</td>\n",
       "      <td>是</td>\n",
       "    </tr>\n",
       "    <tr>\n",
       "      <th>6</th>\n",
       "      <td>7</td>\n",
       "      <td>乌黑</td>\n",
       "      <td>稍蜷</td>\n",
       "      <td>浊响</td>\n",
       "      <td>稍糊</td>\n",
       "      <td>稍凹</td>\n",
       "      <td>软粘</td>\n",
       "      <td>0.481</td>\n",
       "      <td>0.149</td>\n",
       "      <td>是</td>\n",
       "    </tr>\n",
       "    <tr>\n",
       "      <th>7</th>\n",
       "      <td>8</td>\n",
       "      <td>乌黑</td>\n",
       "      <td>稍蜷</td>\n",
       "      <td>浊响</td>\n",
       "      <td>清晰</td>\n",
       "      <td>稍凹</td>\n",
       "      <td>硬滑</td>\n",
       "      <td>0.437</td>\n",
       "      <td>0.211</td>\n",
       "      <td>是</td>\n",
       "    </tr>\n",
       "    <tr>\n",
       "      <th>8</th>\n",
       "      <td>9</td>\n",
       "      <td>乌黑</td>\n",
       "      <td>稍蜷</td>\n",
       "      <td>沉闷</td>\n",
       "      <td>稍糊</td>\n",
       "      <td>稍凹</td>\n",
       "      <td>硬滑</td>\n",
       "      <td>0.666</td>\n",
       "      <td>0.091</td>\n",
       "      <td>否</td>\n",
       "    </tr>\n",
       "    <tr>\n",
       "      <th>9</th>\n",
       "      <td>10</td>\n",
       "      <td>青绿</td>\n",
       "      <td>硬挺</td>\n",
       "      <td>清脆</td>\n",
       "      <td>清晰</td>\n",
       "      <td>平坦</td>\n",
       "      <td>软粘</td>\n",
       "      <td>0.243</td>\n",
       "      <td>0.267</td>\n",
       "      <td>否</td>\n",
       "    </tr>\n",
       "    <tr>\n",
       "      <th>10</th>\n",
       "      <td>11</td>\n",
       "      <td>浅白</td>\n",
       "      <td>硬挺</td>\n",
       "      <td>清脆</td>\n",
       "      <td>模糊</td>\n",
       "      <td>平坦</td>\n",
       "      <td>硬滑</td>\n",
       "      <td>0.245</td>\n",
       "      <td>0.057</td>\n",
       "      <td>否</td>\n",
       "    </tr>\n",
       "    <tr>\n",
       "      <th>11</th>\n",
       "      <td>12</td>\n",
       "      <td>浅白</td>\n",
       "      <td>蜷缩</td>\n",
       "      <td>浊响</td>\n",
       "      <td>模糊</td>\n",
       "      <td>平坦</td>\n",
       "      <td>软粘</td>\n",
       "      <td>0.343</td>\n",
       "      <td>0.099</td>\n",
       "      <td>否</td>\n",
       "    </tr>\n",
       "    <tr>\n",
       "      <th>12</th>\n",
       "      <td>13</td>\n",
       "      <td>青绿</td>\n",
       "      <td>稍蜷</td>\n",
       "      <td>浊响</td>\n",
       "      <td>稍糊</td>\n",
       "      <td>凹陷</td>\n",
       "      <td>硬滑</td>\n",
       "      <td>0.639</td>\n",
       "      <td>0.161</td>\n",
       "      <td>否</td>\n",
       "    </tr>\n",
       "    <tr>\n",
       "      <th>13</th>\n",
       "      <td>14</td>\n",
       "      <td>浅白</td>\n",
       "      <td>稍蜷</td>\n",
       "      <td>沉闷</td>\n",
       "      <td>稍糊</td>\n",
       "      <td>凹陷</td>\n",
       "      <td>硬滑</td>\n",
       "      <td>0.657</td>\n",
       "      <td>0.198</td>\n",
       "      <td>否</td>\n",
       "    </tr>\n",
       "    <tr>\n",
       "      <th>14</th>\n",
       "      <td>15</td>\n",
       "      <td>乌黑</td>\n",
       "      <td>稍蜷</td>\n",
       "      <td>浊响</td>\n",
       "      <td>清晰</td>\n",
       "      <td>稍凹</td>\n",
       "      <td>软粘</td>\n",
       "      <td>0.36</td>\n",
       "      <td>0.37</td>\n",
       "      <td>否</td>\n",
       "    </tr>\n",
       "    <tr>\n",
       "      <th>15</th>\n",
       "      <td>16</td>\n",
       "      <td>浅白</td>\n",
       "      <td>蜷缩</td>\n",
       "      <td>浊响</td>\n",
       "      <td>模糊</td>\n",
       "      <td>平坦</td>\n",
       "      <td>硬滑</td>\n",
       "      <td>0.593</td>\n",
       "      <td>0.042</td>\n",
       "      <td>否</td>\n",
       "    </tr>\n",
       "    <tr>\n",
       "      <th>16</th>\n",
       "      <td>17</td>\n",
       "      <td>青绿</td>\n",
       "      <td>蜷缩</td>\n",
       "      <td>沉闷</td>\n",
       "      <td>稍糊</td>\n",
       "      <td>稍凹</td>\n",
       "      <td>硬滑</td>\n",
       "      <td>0.719</td>\n",
       "      <td>0.103</td>\n",
       "      <td>否</td>\n",
       "    </tr>\n",
       "  </tbody>\n",
       "</table>\n",
       "</div>"
      ],
      "text/plain": [
       "    编号  色泽  根蒂  敲声  纹理  脐部  触感     密度    含糖率 好瓜\n",
       "0    1  青绿  蜷缩  浊响  清晰  凹陷  硬滑  0.697   0.46  是\n",
       "1    2  乌黑  蜷缩  沉闷  清晰  凹陷  硬滑  0.774  0.376  是\n",
       "2    3  乌黑  蜷缩  浊响  清晰  凹陷  硬滑  0.634  0.264  是\n",
       "3    4  青绿  蜷缩  沉闷  清晰  凹陷  硬滑  0.608  0.318  是\n",
       "4    5  浅白  蜷缩  浊响  清晰  凹陷  硬滑  0.556  0.215  是\n",
       "5    6  青绿  稍蜷  浊响  清晰  稍凹  软粘  0.403  0.237  是\n",
       "6    7  乌黑  稍蜷  浊响  稍糊  稍凹  软粘  0.481  0.149  是\n",
       "7    8  乌黑  稍蜷  浊响  清晰  稍凹  硬滑  0.437  0.211  是\n",
       "8    9  乌黑  稍蜷  沉闷  稍糊  稍凹  硬滑  0.666  0.091  否\n",
       "9   10  青绿  硬挺  清脆  清晰  平坦  软粘  0.243  0.267  否\n",
       "10  11  浅白  硬挺  清脆  模糊  平坦  硬滑  0.245  0.057  否\n",
       "11  12  浅白  蜷缩  浊响  模糊  平坦  软粘  0.343  0.099  否\n",
       "12  13  青绿  稍蜷  浊响  稍糊  凹陷  硬滑  0.639  0.161  否\n",
       "13  14  浅白  稍蜷  沉闷  稍糊  凹陷  硬滑  0.657  0.198  否\n",
       "14  15  乌黑  稍蜷  浊响  清晰  稍凹  软粘   0.36   0.37  否\n",
       "15  16  浅白  蜷缩  浊响  模糊  平坦  硬滑  0.593  0.042  否\n",
       "16  17  青绿  蜷缩  沉闷  稍糊  稍凹  硬滑  0.719  0.103  否"
      ]
     },
     "execution_count": 20,
     "metadata": {},
     "output_type": "execute_result"
    }
   ],
   "source": [
    "#load the watermelon dataset\n",
    "\n",
    "def get_watermelon_dataset():\n",
    "    file = open('/Users/HansZeng/Desktop/watermelon-dataset.txt')\n",
    "    lines = file.readlines()\n",
    "    m = []\n",
    "    i = 0\n",
    "    for line in lines:\n",
    "        m.append(line.split(\",\"))\n",
    "        i = i + 1\n",
    "    df = pd.DataFrame(m[1:])\n",
    "    l1 = ['是']*8\n",
    "    l2 = ['否']*9\n",
    "    l1.extend(l2)\n",
    "    df[9] = l1\n",
    "    df.columns = ['编号','色泽','根蒂','敲声','纹理','脐部','触感','密度','含糖率','好瓜']\n",
    "    return df\n",
    "\n",
    "df = get_watermelon_dataset()\n",
    "df"
   ]
  },
  {
   "cell_type": "code",
   "execution_count": 115,
   "metadata": {
    "collapsed": false
   },
   "outputs": [
    {
     "data": {
      "text/plain": [
       "<matplotlib.text.Text at 0x116879390>"
      ]
     },
     "execution_count": 115,
     "metadata": {},
     "output_type": "execute_result"
    },
    {
     "data": {
      "image/png": "[encoded data removed]",
      "text/plain": [
       "<matplotlib.figure.Figure at 0x1147a3650>"
      ]
     },
     "metadata": {},
     "output_type": "display_data"
    }
   ],
   "source": [
    "\"\"\"preprocess the dataset \"\"\"\n",
    "\n",
    "#从原始数据集中抽取新的数据集，新的数据集只包含“密度”和“含糖量”的数据\n",
    "s1 = df['密度']\n",
    "s2 = df['含糖率']\n",
    "s3 = [1]*8\n",
    "s3.extend([0]*9)\n",
    "df = pd.DataFrame({'label':s3,'密度':s1,'含糖率':s2})\n",
    "\n",
    "#convert the dataframe to matrix\n",
    "m = df.values\n",
    "\n",
    "#convert the string in matrix to float\n",
    "for i in range(m.shape[0]):\n",
    "    for j in range(m.shape[1]):\n",
    "        m[i,j] = float(m[i,j])\n",
    "\n",
    "#draw scatter diagram to plot raw data\n",
    "xdim = m[:,1]\n",
    "ydim = m[:,2]\n",
    "plt.scatter(xdim, ydim, c=m[:,0])\n",
    "plt.xlabel(\"ratio sugar\")\n",
    "plt.ylabel(\"density\")"
   ]
  },
  {
   "cell_type": "code",
   "execution_count": 116,
   "metadata": {
    "collapsed": false
   },
   "outputs": [
    {
     "name": "stdout",
     "output_type": "stream",
     "text": [
      "             precision    recall  f1-score   support\n",
      "\n",
      "          0       1.00      0.20      0.33         5\n",
      "          1       0.50      1.00      0.67         4\n",
      "\n",
      "avg / total       0.78      0.56      0.48         9\n",
      "\n"
     ]
    }
   ],
   "source": [
    "\"\"\"use the sklearn libaray to complete logistic regression homework\"\"\"\n",
    "from sklearn.model_selection import train_test_split\n",
    "from sklearn.linear_model import LogisticRegression \n",
    "from sklearn import preprocessing\n",
    "from sklearn import utils\n",
    "from sklearn.metrics import classification_report\n",
    "from sklearn import model_selection\n",
    "\n",
    "\n",
    "#make the y_label encoder\n",
    "lab_enc = preprocessing.LabelEncoder()\n",
    "y_label = lab_enc.fit_transform(m[:,0])\n",
    "#select the train and test set\n",
    "X_train, X_test, y_train, y_test = model_selection.train_test_split(m[:,1:3], y_label,test_size=0.5, random_state=42)\n",
    "#train the X_train\n",
    "classifier = LogisticRegression()\n",
    "classifier.fit(X_train, y_train)\n",
    "y_pred = classifier.predict(X_test)\n",
    "\n",
    "#get the summarize of fitting report\n",
    "print(classification_report(y_test, y_pred))"
   ]
  },
  {
   "cell_type": "markdown",
   "metadata": {},
   "source": [
    "可以看出上面的分类情况不是很好，如何改进？"
   ]
  },
  {
   "cell_type": "markdown",
   "metadata": {},
   "source": [
    "下面自己编程得到梯度下降算法"
   ]
  },
  {
   "cell_type": "code",
   "execution_count": 149,
   "metadata": {
    "collapsed": false
   },
   "outputs": [],
   "source": [
    "\n",
    "import numpy as np\n",
    "import math\n",
    "def likehood_func(X, y, beta):     #the goal function to get the minimal value as the (3.27) equation in zzh's book\n",
    "    \"\"\"\n",
    "    @para X: X is the sample matrix, the dim is (3,17)\n",
    "    @para y: y is the label array\n",
    "    @return beta: the  parameter of (3.27) in zzh's book\n",
    "    \"\"\"\n",
    "    r, c = X.shape\n",
    "    sum = 0\n",
    "    for i in range(r):\n",
    "        exp = -y[i]*np.dot(beta, X[i,]) + math.log(1+math.e**(np.dot(X[i,],beta)))\n",
    "        sum = sum + exp\n",
    "    return sum\n"
   ]
  },
  {
   "cell_type": "code",
   "execution_count": 272,
   "metadata": {
    "collapsed": false
   },
   "outputs": [],
   "source": [
    "def gradient_descent(X, y,h):\n",
    "    \"\"\"\n",
    "    @para X: X is the sample matrix, the dim is (3,17)\n",
    "    @para y: y is the label array\n",
    "    @para h: h is the step length of iteration\n",
    "    @return beta: the best parameter of (3.27) in zzh's book\n",
    "    \"\"\"\n",
    "    maxtime = 500    #give the iterative time limit\n",
    "    r, c = X.shape\n",
    "    delta_beta = np.array([h]*c)\n",
    "    beta = np.zeros(c)\n",
    "    cur_lh = 0    #the initial function value and set it 0\n",
    "    lhs = []    #记录似然函数在不同beta下的值\n",
    "    \n",
    "    for i in range(maxtime):\n",
    "        temp_beta = beta\n",
    "        #patrial part\n",
    "        for j in range(c):\n",
    "            beta[j] += delta_beta[j]\n",
    "            new_lh = likehood_func(X, y, beta)\n",
    "            delta_beta[j] = -h * (new_lh - cur_lh) / delta_beta[j]\n",
    "            beta = temp_beta\n",
    "        beta += delta_beta\n",
    "        cur_lh = likehood_func(X, y, beta)\n",
    "        lhs.append(cur_lh)\n",
    "    return (beta,lhs)"
   ]
  },
  {
   "cell_type": "code",
   "execution_count": 290,
   "metadata": {
    "collapsed": false
   },
   "outputs": [],
   "source": [
    "X = m[:,0:3]\n",
    "y = m[:,0]\n"
   ]
  },
  {
   "cell_type": "code",
   "execution_count": 242,
   "metadata": {
    "collapsed": false
   },
   "outputs": [
    {
     "data": {
      "image/png": "[encoded data removed]",
      "text/plain": [
       "<matplotlib.figure.Figure at 0x117265450>"
      ]
     },
     "metadata": {},
     "output_type": "display_data"
    }
   ],
   "source": [
    "\"\"\"draw line diagram to view the converage condition\"\"\"\n",
    "x = range(500)\n",
    "plt.subplot(3,1,1)\n",
    "plt.plot(range(500),gradient_descent(X,y,0.1)[1])\n",
    "plt.title(\"converage diagram with 0.1 step\")\n",
    "\n",
    "plt.subplot(3,1,2)\n",
    "plt.plot(range(500),gradient_descent(X,y,0.05)[1])\n",
    "plt.title(\"converage diagram with 0.05 step\")\n",
    "\n",
    "plt.subplot(3,1,3)\n",
    "plt.plot(range(500),gradient_descent(X,y,0.01)[1])\n",
    "plt.title(\"converage diagram with 0.01 step\")\n",
    "\n",
    "plt.show()"
   ]
  },
  {
   "cell_type": "code",
   "execution_count": 270,
   "metadata": {
    "collapsed": false
   },
   "outputs": [],
   "source": [
    "def gradient_descent_version2(X, y, h):\n",
    "    \"\"\"\n",
    "    @para X: X is the sample matrix, the dim is (3,17)\n",
    "    @para y: y is the label array\n",
    "    @para h: h is the step length of iteration\n",
    "    @return beta: the best parameter of (3.27) in zzh's book\n",
    "    \"\"\"\n",
    "    maxtime = 500    #give the iterative time limit\n",
    "    r, c = X.shape\n",
    "    delta_beta = np.array([h]*c)\n",
    "    beta = np.zeros(c)\n",
    "    cur_lh = 0    #the initial function value and set it 0\n",
    "    lhs = []    #记录似然函数在不同beta下的值\n",
    "    \n",
    "    for i in range(maxtime):\n",
    "        temp_beta = beta\n",
    "        #patrial part\n",
    "        for j in range(c):\n",
    "            beta[j] += delta_beta[j]\n",
    "            new_lh = likehood_func(X, y, beta)\n",
    "            delta_beta[j] = -h * partial_likehood(X,y,beta)[j]\n",
    "            beta = temp_beta\n",
    "        beta += delta_beta\n",
    "        cur_lh = likehood_func(X, y, beta)\n",
    "        lhs.append(cur_lh)\n",
    "    return (beta,lhs)\n",
    "\n",
    "def partial_likehood(X, y, beta):\n",
    "    r, c = X.shape\n",
    "    partial = np.ones(3)\n",
    "    \n",
    "    for i in range(r):\n",
    "        for j in range(c):\n",
    "            partial[j] += X[i,j] *(1-1/(1+math.e**np.dot(beta,X[i,]))-y[i])\n",
    "    return partial"
   ]
  },
  {
   "cell_type": "code",
   "execution_count": 277,
   "metadata": {
    "collapsed": false,
    "scrolled": false
   },
   "outputs": [
    {
     "data": {
      "image/png": "[encoded data removed]",
      "text/plain": [
       "<matplotlib.figure.Figure at 0x117207350>"
      ]
     },
     "metadata": {},
     "output_type": "display_data"
    }
   ],
   "source": [
    "\"\"\"draw line diagram to view the converage condition for gradient_descent_version2\"\"\"\n",
    "x = range(500)\n",
    "plt.subplot(3,1,1)\n",
    "plt.plot(range(500),gradient_descent_version2(X,y,0.1)[1])\n",
    "plt.title(\"converage diagram with 0.1 step\")\n",
    "\n",
    "plt.subplot(3,1,2)\n",
    "plt.plot(range(500),gradient_descent_version2(X,y,0.05)[1])\n",
    "plt.title(\"converage diagram with 0.05 step\")\n",
    "\n",
    "plt.subplot(3,1,3)\n",
    "plt.plot(range(500),gradient_descent_version2(X,y,0.01)[1])\n",
    "plt.title(\"converage diagram with 0.01 step\")\n",
    "\n",
    "plt.show()"
   ]
  },
  {
   "cell_type": "code",
   "execution_count": 288,
   "metadata": {
    "collapsed": false
   },
   "outputs": [
    {
     "name": "stdout",
     "output_type": "stream",
     "text": [
      "2.76953419512\n",
      "1.79955262728\n",
      "1.60347272539\n",
      "0.581473002551\n",
      "0.987732994081\n",
      "2.88670747429\n",
      "0.649089572923\n",
      "1.01016379169\n",
      "1.35509081156\n",
      "y_test:  [1 1 1 0 0 0 0 0 1]  y_pred: [0.7347152331729239, 0.6428000708917684, 0.6158976469209585, 0.36767810870828854, 0.4969143225081142, 0.7427128214264584, 0.39360480084320604, 0.5025281003798534, 0.5753879234324673]\n"
     ]
    }
   ],
   "source": [
    "'''\n",
    "use the own logistic regression function to complete the homework\n",
    "'''\n",
    "X_train, X_test, y_train, y_test = model_selection.train_test_split(m[:,1:3], y_label,test_size=0.5, random_state=42)\n",
    "\n",
    "def prob_select_true(beta,x):\n",
    "    print np.e**(np.dot(beta,x))\n",
    "    return 1 - 1 / (1 + np.e**(np.dot(beta,x)))\n",
    "\n",
    "\n",
    "beta = gradient_descent(X_train, y_train, 0.1)[0]    #get the optimized sequence\n",
    "\n",
    "y_pred = []\n",
    "\n",
    "for i in range(len(y_test)):\n",
    "    y_pred.append(prob_select_true(beta,X_test[i,]))\n",
    "    \n",
    "print \"y_test: \", y_test, \" y_pred:\" ,y_pred    #print the pro_y by the X_test to compare with y_test"
   ]
  },
  {
   "cell_type": "code",
   "execution_count": null,
   "metadata": {
    "collapsed": true
   },
   "outputs": [],
   "source": []
  }
 ],
 "metadata": {
  "kernelspec": {
   "display_name": "Python 2",
   "language": "python",
   "name": "python2"
  },
  "language_info": {
   "codemirror_mode": {
    "name": "ipython",
    "version": 2
   },
   "file_extension": ".py",
   "mimetype": "text/x-python",
   "name": "python",
   "nbconvert_exporter": "python",
   "pygments_lexer": "ipython2",
   "version": "2.7.13"
  }
 },
 "nbformat": 4,
 "nbformat_minor": 2
}
