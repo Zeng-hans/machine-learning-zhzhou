{
 "cells": [
  {
   "cell_type": "code",
   "execution_count": 30,
   "metadata": {
    "collapsed": false
   },
   "outputs": [
    {
     "data": {
      "text/plain": [
       "'\\xe7\\xbc\\x96\\xe5\\x8f\\xb7,\\xe8\\x89\\xb2\\xe6\\xb3\\xbd,\\xe6\\xa0\\xb9\\xe8\\x92\\x82,\\xe6\\x95\\xb2\\xe5\\xa3\\xb0,\\xe7\\xba\\xb9\\xe7\\x90\\x86,\\xe8\\x84\\x90\\xe9\\x83\\xa8,\\xe8\\xa7\\xa6\\xe6\\x84\\x9f,\\xe5\\xaf\\x86\\xe5\\xba\\xa6,\\xe5\\x90\\xab\\xe7\\xb3\\x96\\xe7\\x8e\\x87,\\xe5\\xa5\\xbd\\xe7\\x93\\x9c\\n'"
      ]
     },
     "execution_count": 30,
     "metadata": {},
     "output_type": "execute_result"
    }
   ],
   "source": [
    "\n",
    "# coding=gbk\n",
    "file = open('/Users/HansZeng/Desktop/watermelon-dataset.txt')\n",
    "lines = file.readlines()\n",
    "\n",
    "\n",
    "\n"
   ]
  },
  {
   "cell_type": "code",
   "execution_count": 32,
   "metadata": {
    "collapsed": true
   },
   "outputs": [],
   "source": [
    "for l"
   ]
  },
  {
   "cell_type": "code",
   "execution_count": null,
   "metadata": {
    "collapsed": true
   },
   "outputs": [],
   "source": []
  }
 ],
 "metadata": {
  "kernelspec": {
   "display_name": "Python 2",
   "language": "python",
   "name": "python2"
  },
  "language_info": {
   "codemirror_mode": {
    "name": "ipython",
    "version": 2
   },
   "file_extension": ".py",
   "mimetype": "text/x-python",
   "name": "python",
   "nbconvert_exporter": "python",
   "pygments_lexer": "ipython2",
   "version": "2.7.13"
  }
 },
 "nbformat": 4,
 "nbformat_minor": 2
}
